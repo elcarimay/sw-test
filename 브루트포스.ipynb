{
 "cells": [
  {
   "cell_type": "code",
   "execution_count": 15,
   "metadata": {},
   "outputs": [
    {
     "name": "stdout",
     "output_type": "stream",
     "text": [
      "1\n",
      "2\n",
      "3\n"
     ]
    }
   ],
   "source": [
    "input_15469 = \"\"\"\n",
    "3\n",
    "1\n",
    "\"\"\"\n",
    "\n",
    "inputs = input_15469.split('\\n')[1:-1][::-1]\n",
    "n, m = int(inputs.pop()), int(inputs.pop())\n",
    "\n",
    "def dfs(selected=[]):\n",
    "    if len(selected) == m:\n",
    "        result.append(selected)\n",
    "        for i in selected:\n",
    "            print(i)\n",
    "        return\n",
    "    for i in range(len(a)):\n",
    "        if a[i] not in selected:\n",
    "            dfs(selected + [a[i]])\n",
    "\n",
    "a = [i+1 for i in range(n)]\n",
    "\n",
    "result = []\n",
    "dfs()\n"
   ]
  }
 ],
 "metadata": {
  "kernelspec": {
   "display_name": "Python 3.10.1 64-bit",
   "language": "python",
   "name": "python3"
  },
  "language_info": {
   "codemirror_mode": {
    "name": "ipython",
    "version": 3
   },
   "file_extension": ".py",
   "mimetype": "text/x-python",
   "name": "python",
   "nbconvert_exporter": "python",
   "pygments_lexer": "ipython3",
   "version": "3.10.1"
  },
  "orig_nbformat": 4,
  "vscode": {
   "interpreter": {
    "hash": "7f3374d570aaa0e933efd8a6df49d64685dc6170768bc55e994b7211169fb678"
   }
  }
 },
 "nbformat": 4,
 "nbformat_minor": 2
}
