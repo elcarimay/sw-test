{
 "cells": [
  {
   "cell_type": "markdown",
   "metadata": {},
   "source": [
    "# 행렬 2차원 배열"
   ]
  },
  {
   "cell_type": "code",
   "execution_count": null,
   "metadata": {},
   "outputs": [],
   "source": [
    "from queue import deque\n",
    "\n",
    "## 상/하/좌/우 이동\n",
    "dx, dy = (-1, 1, 0, 0), (0, 0, -1, 1)\n",
    "\n",
    "## 행의 개수 N, 열의 개수 M\n",
    "N, M = map(int, input().split())\n",
    "G = [list(map(int, input().split())) for _ in range(N)]\n",
    "visited = [[0 for _ in range(M)] for _ in range(N)]\n"
   ]
  },
  {
   "cell_type": "code",
   "execution_count": 2,
   "metadata": {},
   "outputs": [],
   "source": [
    "## 순차 탐색 (방문한 노드 출력) - DFS 또는 BFS\n",
    "def dfs(x, y):\n",
    "    visited[x][y] = 1\n",
    "    for k in range(4):\n",
    "        nx, ny = x + dx[k], y + dy[k]\n",
    "        if 0 <= nx < N and 0 <= ny < M:\n",
    "            if not visited[nx][ny]:\n",
    "                dfs(nx, ny)"
   ]
  },
  {
   "cell_type": "code",
   "execution_count": 3,
   "metadata": {},
   "outputs": [],
   "source": [
    "## 연결요소 탐색 (개수 또는 길이/깊이) - DFS 또는 BFS\n",
    "def dfs(x, y, count=0):\n",
    "    visited[x][y] = 1\n",
    "    for k in range(4):\n",
    "        nx, ny = x + dx[k], y + dy[k]\n",
    "        if 0 <= nx < N and 0 <= ny < M:\n",
    "            if not visited[nx][ny] and G[nx][ny] == 1:\n",
    "                count = dfs(nx, ny, count+1)\n",
    "    return count\n",
    "def bfs(x0, y0, count=0):\n",
    "    visited[x0][y0] = 1\n",
    "    q = deque([(x0, y0)])\n",
    "    while q:\n",
    "        x, y = q.popleft()\n",
    "        for k in range(4):\n",
    "            nx, ny = x + dx[k], y + dy[k]\n",
    "            if 0 <= nx < N and 0 <= ny < M:\n",
    "                if not visited[nx][ny] and G[nx][ny] == 1:\n",
    "                    count += 1\n",
    "                    visited[nx][ny] = 1\n",
    "                    q.append((nx, ny))\n",
    "    return count"
   ]
  },
  {
   "cell_type": "code",
   "execution_count": 4,
   "metadata": {},
   "outputs": [],
   "source": [
    "## 최단거리 탐색 - 무조건 BFS\n",
    "def bfs(x0, y0, xn, yn):\n",
    "    visited[x0][y0] = 1\n",
    "    q = deque([(x0, y0)])\n",
    "    while q:\n",
    "        x, y = q.popleft()\n",
    "        for k in range(4):\n",
    "            nx, ny = x + dx[k], y + dy[k]\n",
    "            if 0 <= nx < N and 0 <= ny < M:\n",
    "                if not visited[nx][ny] and G[nx][ny] == 1:\n",
    "                    visited[nx][ny] = visited[x][y] + 1\n",
    "                    q.append((nx, ny))\n",
    "            if (nx, ny) == (xn, yn):\n",
    "                return visited[xn][yn] - 1\n",
    "    return -1"
   ]
  },
  {
   "cell_type": "code",
   "execution_count": 5,
   "metadata": {},
   "outputs": [
    {
     "ename": "SyntaxError",
     "evalue": "cannot assign to expression (2400447272.py, line 11)",
     "output_type": "error",
     "traceback": [
      "\u001b[1;36m  Cell \u001b[1;32mIn [5], line 11\u001b[1;36m\u001b[0m\n\u001b[1;33m    if 0 <= nx < N and 0 <= ny < M:\u001b[0m\n\u001b[1;37m        ^\u001b[0m\n\u001b[1;31mSyntaxError\u001b[0m\u001b[1;31m:\u001b[0m cannot assign to expression\n"
     ]
    }
   ],
   "source": [
    "## 조건탐색 (백트래킹) - 무조건 DFS\n",
    "def dfs(x, y, total):\n",
    "    global result\n",
    "    \n",
    "    if (x, y) == (N - 1, M - 1):\n",
    "        result = min(result, total)\n",
    "        return\n",
    "    \n",
    "    for k in range(4):\n",
    "        nx, ny = x + dx[k], y + dy[k]\n",
    "        if 0 <= nx < N and 0 <= ny < M:\n",
    "            if not visited[nx][ny]:\n",
    "                visited[nx][ny] = 1\n",
    "                dfs(nx, ny, total + G[nx][ny])\n",
    "                visited[nx][ny] = 0\n",
    "\n",
    "INF = float('inf')\n",
    "result = INF\n",
    "dfs(0, 0, G[0][0])\n",
    "print(result)"
   ]
  }
 ],
 "metadata": {
  "kernelspec": {
   "display_name": "Python 3.10.1 64-bit",
   "language": "python",
   "name": "python3"
  },
  "language_info": {
   "codemirror_mode": {
    "name": "ipython",
    "version": 3
   },
   "file_extension": ".py",
   "mimetype": "text/x-python",
   "name": "python",
   "nbconvert_exporter": "python",
   "pygments_lexer": "ipython3",
   "version": "3.10.1"
  },
  "orig_nbformat": 4,
  "vscode": {
   "interpreter": {
    "hash": "7f3374d570aaa0e933efd8a6df49d64685dc6170768bc55e994b7211169fb678"
   }
  }
 },
 "nbformat": 4,
 "nbformat_minor": 2
}
