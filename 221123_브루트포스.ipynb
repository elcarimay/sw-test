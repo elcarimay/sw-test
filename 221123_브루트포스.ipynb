{
 "cells": [
  {
   "cell_type": "markdown",
   "metadata": {},
   "source": [
    "# 1748번 수 이어쓰기 1 (Silver IV)"
   ]
  },
  {
   "cell_type": "code",
   "execution_count": 1,
   "metadata": {},
   "outputs": [
    {
     "name": "stdout",
     "output_type": "stream",
     "text": [
      "5\n",
      "21\n",
      "252\n"
     ]
    }
   ],
   "source": [
    "input_1748 = \"\"\"\n",
    "3\n",
    "5\n",
    "15\n",
    "120\n",
    "\"\"\"\n",
    "\n",
    "inputs = input_1748.split('\\n')[1:-1][::-1]\n",
    "n= int(inputs.pop())\n",
    "\n",
    "for i in range(n):\n",
    "    num = inputs.pop()\n",
    "    answer = 0\n",
    "    for i in range(len(num)-1):\n",
    "        answer += 9 * 10 ** i * (i+1)\n",
    "    answer += (int(num) - 10 ** (len(num) - 1) + 1) * len(num)\n",
    "\n",
    "    print(answer)"
   ]
  },
  {
   "cell_type": "markdown",
   "metadata": {},
   "source": [
    "# 9095번 1, 2, 3 더하기 (Silver III)"
   ]
  },
  {
   "cell_type": "code",
   "execution_count": 2,
   "metadata": {},
   "outputs": [
    {
     "name": "stdout",
     "output_type": "stream",
     "text": [
      "7\n",
      "44\n",
      "274\n"
     ]
    }
   ],
   "source": [
    "input_9095 = \"\"\"\n",
    "3\n",
    "4\n",
    "7\n",
    "10\n",
    "\"\"\"\n",
    "inputs = input_9095.split('\\n')[1:-1][::-1]\n",
    "\n",
    "cache = [0] * 11\n",
    "cache[1], cache[2], cache[3] = 1, 2, 4\n",
    "\n",
    "for i in range(4, 11):\n",
    "    cache[i] = sum(cache[i-3:i])\n",
    "\n",
    "t = int(inputs.pop())\n",
    "for _ in range(t):\n",
    "    print(cache[int(inputs.pop())])"
   ]
  },
  {
   "cell_type": "markdown",
   "metadata": {},
   "source": [
    "# 15649번 N과 M(1) (Silver III)"
   ]
  },
  {
   "cell_type": "code",
   "execution_count": null,
   "metadata": {},
   "outputs": [],
   "source": [
    "input_15649 = \"\"\"\n",
    "3\n",
    "3 1\n",
    "4 2\n",
    "4 4\n",
    "\"\"\"\n",
    "inputs = input_15649.split('\\n')[1:-1][::-1]\n",
    "\n",
    "t = int(inputs.pop())\n",
    "for _ in range(t):\n",
    "    n, m = list(map(int, inputs.pop().split()))\n",
    "\n",
    "    def dfs(selected=[]):\n",
    "        if len(selected) == m:\n",
    "            result.append(selected)\n",
    "            print(*selected)\n",
    "            return\n",
    "        for i in range(len(a)):\n",
    "            if a[i] not in selected:\n",
    "                dfs(selected + [a[i]])\n",
    "\n",
    "    a = [i+1 for i in range(n)]\n",
    "\n",
    "    result = []\n",
    "    dfs()"
   ]
  },
  {
   "cell_type": "markdown",
   "metadata": {},
   "source": [
    "# 15650번 N과 M(2) (Silver III)"
   ]
  },
  {
   "cell_type": "code",
   "execution_count": null,
   "metadata": {},
   "outputs": [],
   "source": [
    "input_15650 = \"\"\"\n",
    "3\n",
    "3 1\n",
    "4 2\n",
    "4 4\n",
    "\"\"\"\n",
    "inputs = input_15650.split('\\n')[1:-1][::-1]\n",
    "\n",
    "t = int(inputs.pop())\n",
    "for _ in range(t):\n",
    "    n, m = list(map(int, inputs.pop().split()))\n",
    "\n",
    "    def dfs(start,selected=[]):\n",
    "        if len(selected) == int(m):\n",
    "            result.append(selected)\n",
    "            print(*selected)\n",
    "            return\n",
    "        for i in range(start, len(a)):\n",
    "            if a[i] not in selected:\n",
    "                dfs(i+1,selected + [a[i]])\n",
    "\n",
    "    a = [i+1 for i in range(int(n))]\n",
    "\n",
    "    result = []\n",
    "    dfs(0)"
   ]
  },
  {
   "cell_type": "markdown",
   "metadata": {},
   "source": [
    "# 15651번 N과 M(3) (Silver III)"
   ]
  },
  {
   "cell_type": "code",
   "execution_count": null,
   "metadata": {},
   "outputs": [],
   "source": [
    "input_15651 = \"\"\"\n",
    "3\n",
    "3 1\n",
    "4 2\n",
    "4 4\n",
    "\"\"\"\n",
    "inputs = input_15651.split('\\n')[1:-1][::-1]\n",
    "\n",
    "t = int(inputs.pop())\n",
    "for _ in range(t):\n",
    "    n, m = list(map(int, inputs.pop().split()))\n",
    "\n",
    "    def dfs(selected=[]):\n",
    "        if len(selected) == int(m):\n",
    "            result.append(selected)\n",
    "            print(*selected)\n",
    "            return\n",
    "        for i in range(len(a)):\n",
    "            dfs(selected + [a[i]])\n",
    "\n",
    "    a = [i+1 for i in range(int(n))]\n",
    "    result = []\n",
    "    dfs()"
   ]
  },
  {
   "cell_type": "markdown",
   "metadata": {},
   "source": [
    "# 15652번 N과 M(4) (Silver III)"
   ]
  },
  {
   "cell_type": "code",
   "execution_count": null,
   "metadata": {},
   "outputs": [],
   "source": [
    "input_15652 = \"\"\"\n",
    "3\n",
    "3 1\n",
    "4 2\n",
    "4 4\n",
    "\"\"\"\n",
    "inputs = input_15652.split('\\n')[1:-1][::-1]\n",
    "\n",
    "t = int(inputs.pop())\n",
    "for _ in range(t):\n",
    "    n, m = list(map(int, inputs.pop().split()))\n",
    "\n",
    "    def dfs(start,selected=[]):\n",
    "        if len(selected) == int(m):\n",
    "            result.append(selected)\n",
    "            print(*selected)\n",
    "            return\n",
    "        for i in range(start, len(a)):\n",
    "            dfs(i,selected + [a[i]])\n",
    "\n",
    "    a = [i+1 for i in range(int(n))]\n",
    "\n",
    "    result = []\n",
    "    dfs(0)"
   ]
  },
  {
   "cell_type": "markdown",
   "metadata": {},
   "source": [
    "# 15654번 N과 M(5) (Silver III)"
   ]
  },
  {
   "cell_type": "code",
   "execution_count": null,
   "metadata": {},
   "outputs": [],
   "source": [
    "input_15654 = \"\"\"\n",
    "3\n",
    "3 1\n",
    "4 5 2\n",
    "4 2\n",
    "9 8 7 1\n",
    "4 4\n",
    "1231 1232 1233 1234\n",
    "\"\"\"\n",
    "inputs = input_15654.split('\\n')[1:-1][::-1]\n",
    "\n",
    "t = int(inputs.pop())\n",
    "for _ in range(t):\n",
    "    n, m = list(map(int, inputs.pop().split()))\n",
    "    arr = list(map(int, inputs.pop().split()))\n",
    "    arr.sort()\n",
    "    def dfs(selected=[]):\n",
    "        if len(selected) == int(m):\n",
    "            print(*selected)\n",
    "            return\n",
    "        for i in range(len(arr)):\n",
    "            if arr[i] not in selected:\n",
    "                dfs(selected + [arr[i]])\n",
    "\n",
    "    dfs()"
   ]
  },
  {
   "cell_type": "markdown",
   "metadata": {},
   "source": [
    "# 15655번 N과 M(6) (Silver III)"
   ]
  },
  {
   "cell_type": "code",
   "execution_count": null,
   "metadata": {},
   "outputs": [],
   "source": [
    "input_15655 = \"\"\"\n",
    "3\n",
    "3 1\n",
    "4 5 2\n",
    "4 2\n",
    "9 8 7 1\n",
    "4 4\n",
    "1231 1232 1233 1234\n",
    "\"\"\"\n",
    "inputs = input_15655.split('\\n')[1:-1][::-1]\n",
    "\n",
    "t = int(inputs.pop())\n",
    "for _ in range(t):\n",
    "    n, m = list(map(int, inputs.pop().split()))\n",
    "    arr = list(map(int, inputs.pop().split()))\n",
    "    arr.sort()\n",
    "    def dfs(start, selected=[]):\n",
    "        if len(selected) == int(m):\n",
    "            result.append(selected[:]) ## deep copy\n",
    "            return\n",
    "        for i in range(start,len(arr)):\n",
    "            if arr[i] not in selected:\n",
    "                selected.append(arr[i])\n",
    "                dfs(i+1,selected)\n",
    "                selected.pop()  ## Backtracking\n",
    "    result = []\n",
    "    dfs(0)\n",
    "\n",
    "    for i in result:\n",
    "        print(*i)"
   ]
  },
  {
   "cell_type": "markdown",
   "metadata": {},
   "source": [
    "# 15656번 N과 M(7) (Silver III)"
   ]
  },
  {
   "cell_type": "code",
   "execution_count": null,
   "metadata": {},
   "outputs": [],
   "source": [
    "input_15656 = \"\"\"\n",
    "3\n",
    "3 1\n",
    "4 5 2\n",
    "4 2\n",
    "9 8 7 1\n",
    "4 4\n",
    "1231 1232 1233 1234\n",
    "\"\"\"\n",
    "inputs = input_15656.split('\\n')[1:-1][::-1]\n",
    "\n",
    "t = int(inputs.pop())\n",
    "for _ in range(t):\n",
    "    n, m = list(map(int, inputs.pop().split()))\n",
    "    arr = list(map(int, inputs.pop().split()))\n",
    "    arr.sort()\n",
    "    def dfs(selected=[]):\n",
    "        if len(selected) == int(m):\n",
    "            print(*selected)\n",
    "            return\n",
    "        for i in range(len(arr)):\n",
    "            dfs(selected + [arr[i]])\n",
    "    dfs()"
   ]
  },
  {
   "cell_type": "markdown",
   "metadata": {},
   "source": [
    "# 15657번 N과 M(8) (Silver III)"
   ]
  },
  {
   "cell_type": "code",
   "execution_count": 5,
   "metadata": {},
   "outputs": [
    {
     "name": "stdout",
     "output_type": "stream",
     "text": [
      "2\n",
      "4\n",
      "5\n",
      "1 1\n",
      "1 7\n",
      "1 8\n",
      "1 9\n",
      "7 7\n",
      "7 8\n",
      "7 9\n",
      "8 8\n",
      "8 9\n",
      "9 9\n",
      "1231 1231 1231 1231\n",
      "1231 1231 1231 1232\n",
      "1231 1231 1231 1233\n",
      "1231 1231 1231 1234\n",
      "1231 1231 1232 1232\n",
      "1231 1231 1232 1233\n",
      "1231 1231 1232 1234\n",
      "1231 1231 1233 1233\n",
      "1231 1231 1233 1234\n",
      "1231 1231 1234 1234\n",
      "1231 1232 1232 1232\n",
      "1231 1232 1232 1233\n",
      "1231 1232 1232 1234\n",
      "1231 1232 1233 1233\n",
      "1231 1232 1233 1234\n",
      "1231 1232 1234 1234\n",
      "1231 1233 1233 1233\n",
      "1231 1233 1233 1234\n",
      "1231 1233 1234 1234\n",
      "1231 1234 1234 1234\n",
      "1232 1232 1232 1232\n",
      "1232 1232 1232 1233\n",
      "1232 1232 1232 1234\n",
      "1232 1232 1233 1233\n",
      "1232 1232 1233 1234\n",
      "1232 1232 1234 1234\n",
      "1232 1233 1233 1233\n",
      "1232 1233 1233 1234\n",
      "1232 1233 1234 1234\n",
      "1232 1234 1234 1234\n",
      "1233 1233 1233 1233\n",
      "1233 1233 1233 1234\n",
      "1233 1233 1234 1234\n",
      "1233 1234 1234 1234\n",
      "1234 1234 1234 1234\n"
     ]
    }
   ],
   "source": [
    "input_15657 = \"\"\"\n",
    "3\n",
    "3 1\n",
    "4 5 2\n",
    "4 2\n",
    "9 8 7 1\n",
    "4 4\n",
    "1231 1232 1233 1234\n",
    "\"\"\"\n",
    "inputs = input_15657.split('\\n')[1:-1][::-1]\n",
    "\n",
    "t = int(inputs.pop())\n",
    "for _ in range(t):\n",
    "    n, m = list(map(int, inputs.pop().split()))\n",
    "    arr = list(map(int, inputs.pop().split()))\n",
    "    arr.sort()\n",
    "    def dfs(start, selected=[]):\n",
    "        if len(selected) == int(m):\n",
    "            print(*selected)\n",
    "            return\n",
    "        for i in range(start, len(arr)):\n",
    "            dfs(i, selected + [arr[i]])\n",
    "    dfs(0)"
   ]
  }
 ],
 "metadata": {
  "kernelspec": {
   "display_name": "Python 3.10.1 64-bit",
   "language": "python",
   "name": "python3"
  },
  "language_info": {
   "codemirror_mode": {
    "name": "ipython",
    "version": 3
   },
   "file_extension": ".py",
   "mimetype": "text/x-python",
   "name": "python",
   "nbconvert_exporter": "python",
   "pygments_lexer": "ipython3",
   "version": "3.10.1"
  },
  "orig_nbformat": 4,
  "vscode": {
   "interpreter": {
    "hash": "7f3374d570aaa0e933efd8a6df49d64685dc6170768bc55e994b7211169fb678"
   }
  }
 },
 "nbformat": 4,
 "nbformat_minor": 2
}
