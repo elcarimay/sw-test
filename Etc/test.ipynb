{
 "cells": [
  {
   "cell_type": "code",
   "execution_count": 2,
   "metadata": {},
   "outputs": [
    {
     "data": {
      "text/plain": [
       "1"
      ]
     },
     "execution_count": 2,
     "metadata": {},
     "output_type": "execute_result"
    }
   ],
   "source": [
    "def run():\n",
    "    correct = True\n",
    "    [n, queryCnt] = f.readline().strip('\\n').split(' ')\n",
    "    init(n)\n",
    "    for _ in range(queryCnt):\n",
    "        [r, c, len, lenAns] = f.readline().strip('\\n').split(' ')\n",
    "        if correct:\n",
    "            lenRes = apple(int(r), int(c), int(len))\n",
    "        if lenRes != int(lenAns):\n",
    "            correct = False\n",
    "    return correct\n",
    "    \n",
    "    "
   ]
  },
  {
   "cell_type": "code",
   "execution_count": 17,
   "metadata": {},
   "outputs": [
    {
     "data": {
      "text/plain": [
       "(9, 10)"
      ]
     },
     "execution_count": 17,
     "metadata": {},
     "output_type": "execute_result"
    }
   ],
   "source": [
    "# def main():\n",
    "f = open(\"C:\\\\00_PJT\\\\test.txt\", 'r')\n",
    "[t, mark] = f.readline().strip('\\n').split(' ')\n",
    "T, MARK = int(t), int(mark)\n",
    "T, MARK\n",
    "for tc in range(int(t)):\n",
    "    if run():\n",
    "        score = run()\n",
    "    else:\n",
    "        score = 0\n",
    "print(\"#%d %d\\n\" %(tc, score))"
   ]
  },
  {
   "cell_type": "code",
   "execution_count": 14,
   "metadata": {},
   "outputs": [
    {
     "data": {
      "text/plain": [
       "['9', '10']"
      ]
     },
     "execution_count": 14,
     "metadata": {},
     "output_type": "execute_result"
    }
   ],
   "source": []
  }
 ],
 "metadata": {
  "kernelspec": {
   "display_name": "cre",
   "language": "python",
   "name": "python3"
  },
  "language_info": {
   "codemirror_mode": {
    "name": "ipython",
    "version": 3
   },
   "file_extension": ".py",
   "mimetype": "text/x-python",
   "name": "python",
   "nbconvert_exporter": "python",
   "pygments_lexer": "ipython3",
   "version": "3.10.9"
  },
  "orig_nbformat": 4
 },
 "nbformat": 4,
 "nbformat_minor": 2
}
