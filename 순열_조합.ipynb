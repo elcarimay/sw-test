{
 "cells": [
  {
   "cell_type": "code",
   "execution_count": 1,
   "metadata": {},
   "outputs": [
    {
     "name": "stdout",
     "output_type": "stream",
     "text": [
      "[[1, 2], [1, 3], [2, 1], [2, 3], [3, 1], [3, 2]]\n"
     ]
    }
   ],
   "source": [
    "## 순열 ver. 1.0\n",
    "def dfs(selected=[]):\n",
    "    if len(selected) == n:\n",
    "        result.append(selected)\n",
    "        return\n",
    "    for i in range(len(a)):\n",
    "        if a[i] not in selected:\n",
    "            dfs(selected + [a[i]])\n",
    "\n",
    "a, n = [1, 2, 3], 2\n",
    "result = []\n",
    "dfs()\n",
    "print(result)"
   ]
  },
  {
   "cell_type": "code",
   "execution_count": 2,
   "metadata": {},
   "outputs": [
    {
     "name": "stdout",
     "output_type": "stream",
     "text": [
      "[[1, 2], [1, 3], [2, 1], [2, 3], [3, 1], [3, 2]]\n"
     ]
    }
   ],
   "source": [
    "## 순열 ver. 1.1\n",
    "def dfs(selected=[]):\n",
    "    if len(selected) == n:\n",
    "        result.append(selected[:]) ## deep copy\n",
    "        return\n",
    "    for i in range(len(a)):\n",
    "        if a[i] not in selected:\n",
    "            selected.append(a[i])\n",
    "            dfs(selected)\n",
    "            selected.pop()  ## Backtracking\n",
    "\n",
    "a, n = [1, 2, 3], 2\n",
    "result = []\n",
    "dfs()\n",
    "print(result)"
   ]
  },
  {
   "cell_type": "code",
   "execution_count": 3,
   "metadata": {},
   "outputs": [
    {
     "name": "stdout",
     "output_type": "stream",
     "text": [
      "[[1, 2], [1, 3], [2, 3]]\n"
     ]
    }
   ],
   "source": [
    "## 조합 ver. 1.0\n",
    "def dfs(j=0, selected=[]):\n",
    "    if len(selected) == n:\n",
    "        result.append(selected)\n",
    "        return\n",
    "    for i in range(j, len(a)):\n",
    "        if a[i] not in selected:\n",
    "            dfs(i, selected + [a[i]])\n",
    "\n",
    "a, n = [1, 2, 3], 2\n",
    "result = []\n",
    "dfs()\n",
    "print(result)"
   ]
  }
 ],
 "metadata": {
  "kernelspec": {
   "display_name": "Python 3.10.1 64-bit",
   "language": "python",
   "name": "python3"
  },
  "language_info": {
   "codemirror_mode": {
    "name": "ipython",
    "version": 3
   },
   "file_extension": ".py",
   "mimetype": "text/x-python",
   "name": "python",
   "nbconvert_exporter": "python",
   "pygments_lexer": "ipython3",
   "version": "3.10.1"
  },
  "orig_nbformat": 4,
  "vscode": {
   "interpreter": {
    "hash": "7f3374d570aaa0e933efd8a6df49d64685dc6170768bc55e994b7211169fb678"
   }
  }
 },
 "nbformat": 4,
 "nbformat_minor": 2
}
