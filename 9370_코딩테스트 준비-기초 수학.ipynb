{
 "cells": [
  {
   "cell_type": "markdown",
   "id": "8d185151",
   "metadata": {},
   "source": [
    "# 10430번 나머지 (브론즈 5)"
   ]
  },
  {
   "cell_type": "code",
   "execution_count": 34,
   "id": "b7a1b684",
   "metadata": {},
   "outputs": [
    {
     "name": "stdout",
     "output_type": "stream",
     "text": [
      "1\n"
     ]
    }
   ],
   "source": [
    "input_10430 = \"\"\"\n",
    "5 8 4\n",
    "\"\"\"\n",
    "\n",
    "inputs = input_10430.split('\\n')[1:-1][::-1]\n",
    "a, b, c = map(int, inputs.pop().split())\n",
    "\n",
    "print('%d' % ((a+b)%c))\n",
    "# print(((a%c)+(b%c))%c)\n",
    "# print((a*b)%c)\n",
    "# print(((a%c)*(b%c))%c)"
   ]
  },
  {
   "cell_type": "markdown",
   "id": "e3a6e767",
   "metadata": {},
   "source": [
    "# 4375번 1 (실버 3)"
   ]
  },
  {
   "cell_type": "code",
   "execution_count": 17,
   "id": "5ced7171",
   "metadata": {},
   "outputs": [
    {
     "name": "stdout",
     "output_type": "stream",
     "text": [
      "3\n",
      "6\n",
      "12\n"
     ]
    }
   ],
   "source": [
    "input_4375 = \"\"\"\n",
    "3\n",
    "7\n",
    "9901\n",
    "\"\"\"\n",
    "\n",
    "inputs = input_4375.split('\\n')[1:-1][::-1]\n",
    "\n",
    "while True:\n",
    "    try:\n",
    "        n = int(inputs.pop())\n",
    "    except:\n",
    "        break\n",
    "\n",
    "    num = \"1\"\n",
    "    while True:\n",
    "        Num = int(num)\n",
    "        if Num % n == 0:\n",
    "            print(len(num))\n",
    "            break\n",
    "        else:\n",
    "            num += \"1\""
   ]
  },
  {
   "cell_type": "markdown",
   "id": "3911981f",
   "metadata": {},
   "source": [
    "# 1037번 약수 (브론즈 1)"
   ]
  },
  {
   "cell_type": "code",
   "execution_count": 20,
   "id": "665dd97f",
   "metadata": {},
   "outputs": [
    {
     "name": "stdout",
     "output_type": "stream",
     "text": [
      "4\n",
      "8\n",
      "1\n",
      "4\n"
     ]
    }
   ],
   "source": [
    "input_1037 = \"\"\"\n",
    "4\n",
    "2\n",
    "4 2\n",
    "1\n",
    "2\n",
    "6\n",
    "3 4 2 12 6 8\n",
    "14\n",
    "14 26456 2 28 13228 3307 7 23149 8 6614 46298 56 4 92596\n",
    "\"\"\"\n",
    "\n",
    "inputs = input_1037.split('\\n')[1:-1][::-1]\n",
    "T = int(inputs.pop())\n",
    "for ts in range(1, T + 1):\n",
    "    divisor = list(map(int, inputs.pop().split()))\n",
    "    print('%d' % (min(divisor)*max(divisor)))"
   ]
  },
  {
   "cell_type": "markdown",
   "id": "f3024e05",
   "metadata": {},
   "source": [
    "# 17427번 약수의 합 2 (실버 2)"
   ]
  },
  {
   "cell_type": "code",
   "execution_count": 27,
   "id": "a256ff8a",
   "metadata": {},
   "outputs": [
    {
     "name": "stdout",
     "output_type": "stream",
     "text": [
      "1\n",
      "4\n",
      "87\n",
      "4065\n",
      "82256014\n"
     ]
    }
   ],
   "source": [
    "input_17427 = \"\"\"\n",
    "5\n",
    "1\n",
    "2\n",
    "10\n",
    "70\n",
    "10000\n",
    "\"\"\"\n",
    "\n",
    "inputs = input_17427.split('\\n')[1:-1][::-1]\n",
    "t = int(inputs.pop())\n",
    "for tc in range(1, t + 1):\n",
    "    N = int(inputs.pop())\n",
    "    answer = 0\n",
    "    for i in range(1, N + 1):\n",
    "        answer += (N // i) * i\n",
    "    print(answer)"
   ]
  },
  {
   "cell_type": "markdown",
   "id": "fbcd189f",
   "metadata": {},
   "source": [
    "# 17425번 약수의 합 (골드 4)"
   ]
  },
  {
   "cell_type": "code",
   "execution_count": 31,
   "id": "1f8ff8cc",
   "metadata": {},
   "outputs": [
    {
     "name": "stdout",
     "output_type": "stream",
     "text": [
      "1\n",
      "4\n",
      "87\n",
      "4065\n",
      "82256014\n"
     ]
    }
   ],
   "source": [
    "import sys\n",
    "\n",
    "input_17425 = \"\"\"\n",
    "5\n",
    "1\n",
    "2\n",
    "10\n",
    "70\n",
    "10000\n",
    "\"\"\"\n",
    "\n",
    "inputs = input_17425.split('\\n')[1:-1][::-1]\n",
    "g_list = [0]*1000001\n",
    "for k in range(1, 1000001):\n",
    "    for i in range(k, 1000001, k):\n",
    "        g_list[i] += k\n",
    "    g_list[k] += g_list[k-1]\n",
    "\n",
    "T = int(inputs.pop())\n",
    "for i in range(T):\n",
    "    N = int(inputs.pop())\n",
    "    print(g_list[N])\n"
   ]
  },
  {
   "cell_type": "markdown",
   "id": "087e1d8d",
   "metadata": {},
   "source": [
    "# 2609번 최대공약수와 최소공배수 (브론즈 1)"
   ]
  },
  {
   "cell_type": "code",
   "execution_count": 23,
   "id": "8a241581",
   "metadata": {},
   "outputs": [
    {
     "name": "stdout",
     "output_type": "stream",
     "text": [
      "6\n",
      "72\n"
     ]
    }
   ],
   "source": [
    "input_2609 = \"\"\"\n",
    "24 18\n",
    "\"\"\"\n",
    "\n",
    "inputs = input_2609.split('\\n')[1:-1][::-1]\n",
    "a, b = map(int, inputs.pop().split())\n",
    "aa, bb = min(a, b), max(a, b)\n",
    "a_list, b_list = [], []\n",
    "for i in range(1, aa + 1):\n",
    "    if (aa % i == 0) and (bb % i == 0):\n",
    "        a_list.append(i)\n",
    "    if (bb * i) % aa == 0:\n",
    "        b_list.append(i*bb)\n",
    "print(max(a_list))\n",
    "print(min(b_list))"
   ]
  },
  {
   "cell_type": "markdown",
   "id": "c948d6a3",
   "metadata": {},
   "source": [
    "# 1978번 소수찾기 (실버 5)"
   ]
  },
  {
   "cell_type": "code",
   "execution_count": 24,
   "id": "332ac817",
   "metadata": {},
   "outputs": [
    {
     "name": "stdout",
     "output_type": "stream",
     "text": [
      "3\n"
     ]
    }
   ],
   "source": [
    "input_1978 = \"\"\"\n",
    "4\n",
    "1 3 5 7\n",
    "\"\"\"\n",
    "\n",
    "inputs = input_1978.split('\\n')[1:-1][::-1]\n",
    "t = int(inputs.pop())\n",
    "data = list(map(int, inputs.pop().split()))\n",
    "cnt = 0\n",
    "for i in data:\n",
    "    if i == 1:\n",
    "        continue\n",
    "    elif i < 4:\n",
    "        cnt += 1\n",
    "        continue\n",
    "    else:\n",
    "        for j in range(2, int(i**0.5 + 1)):\n",
    "            if i % j == 0:\n",
    "                break\n",
    "            if j == int(i**0.5 + 1) - 1:\n",
    "                cnt += 1\n",
    "print(cnt)"
   ]
  },
  {
   "cell_type": "markdown",
   "id": "776d4f48",
   "metadata": {},
   "source": [
    "# 1929번 소수 구하기 (실버 3)"
   ]
  },
  {
   "cell_type": "code",
   "execution_count": 35,
   "id": "a4f01892",
   "metadata": {},
   "outputs": [
    {
     "name": "stdout",
     "output_type": "stream",
     "text": [
      "3\n",
      "5\n",
      "7\n",
      "11\n",
      "13\n",
      "3\n",
      "5\n",
      "7\n",
      "11\n",
      "13\n"
     ]
    }
   ],
   "source": [
    "# 에라토스테니스의 체\n",
    "import sys\n",
    "\n",
    "\n",
    "input_1929 = \"\"\"\n",
    "3 16\n",
    "\"\"\"\n",
    "\n",
    "def isp(a):\n",
    "    if a == 1:\n",
    "        return False\n",
    "    for j in range(2, int(a ** 0.5) + 1):\n",
    "        if a % j == 0:\n",
    "            return False\n",
    "    else:\n",
    "        return True\n",
    "\n",
    "\n",
    "if __name__ == \"__main__\":\n",
    "    inputs = input_1929.split('\\n')[1:-1][::-1]\n",
    "    m, n = map(int, inputs.pop().split())\n",
    "    for i in range(m, n + 1):\n",
    "        if isp(i):\n",
    "            print(i)\n",
    "\n"
   ]
  },
  {
   "cell_type": "code",
   "execution_count": 36,
   "id": "03538139",
   "metadata": {},
   "outputs": [
    {
     "name": "stdout",
     "output_type": "stream",
     "text": [
      "3\n",
      "5\n",
      "7\n",
      "11\n",
      "13\n"
     ]
    }
   ],
   "source": [
    "input_1929 = \"\"\"\n",
    "3 16\n",
    "\"\"\"\n",
    "\n",
    "# 남수석님 code\n",
    "def find_prime(n, m):\n",
    "    is_prime = [False, False] + [True]*m\n",
    "    for i in range(2, int((m+1)**0.5) + 1):\n",
    "        if is_prime[i]:\n",
    "            for j in range(2*i, m+2, i):\n",
    "                is_prime[j] = False\n",
    "    return [i for i in range(n, m+1) if is_prime[i]]\n",
    "\n",
    "inputs = input_1929.split('\\n')[1:-1][::-1]\n",
    "N, M = map(int, inputs.pop().split())\n",
    "\n",
    "for k in find_prime(N, M):\n",
    "    print(k)"
   ]
  },
  {
   "cell_type": "markdown",
   "id": "ed2bc340",
   "metadata": {},
   "source": [
    "# 6588번 골드바흐의 추측 (실버 1)"
   ]
  },
  {
   "cell_type": "code",
   "execution_count": 26,
   "id": "dd721ace",
   "metadata": {},
   "outputs": [
    {
     "name": "stdout",
     "output_type": "stream",
     "text": [
      "8 = 3 + 5\n",
      "20 = 3 + 17\n",
      "42 = 5 + 37\n"
     ]
    }
   ],
   "source": [
    "import sys\n",
    "\n",
    "input_6588 = \"\"\"\n",
    "8\n",
    "20\n",
    "42\n",
    "0\n",
    "\"\"\"\n",
    "\n",
    "inputs = input_6588.split('\\n')[1:-1][::-1]\n",
    "array = [True for i in range(1000001)]\n",
    "\n",
    "for i in range(2, 1001):\n",
    "    if array[i]:\n",
    "        for k in range(i + i, 1000001, i):\n",
    "            array[k] = False\n",
    "\n",
    "while True:\n",
    "    n = int(inputs.pop())\n",
    "\n",
    "    if n == 0:\n",
    "        break\n",
    "\n",
    "    for i in range(3, len(array)):\n",
    "        if array[i] and array[n-i]:\n",
    "            print(n, \"=\", i, \"+\", n-i)\n",
    "            break"
   ]
  }
 ],
 "metadata": {
  "kernelspec": {
   "display_name": "Python 3 (ipykernel)",
   "language": "python",
   "name": "python3"
  },
  "language_info": {
   "codemirror_mode": {
    "name": "ipython",
    "version": 3
   },
   "file_extension": ".py",
   "mimetype": "text/x-python",
   "name": "python",
   "nbconvert_exporter": "python",
   "pygments_lexer": "ipython3",
   "version": "3.9.8"
  }
 },
 "nbformat": 4,
 "nbformat_minor": 5
}
